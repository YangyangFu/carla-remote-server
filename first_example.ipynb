{
 "cells": [
  {
   "cell_type": "code",
   "execution_count": null,
   "metadata": {},
   "outputs": [
    {
     "ename": "RuntimeError",
     "evalue": "rpc::rpc_error during call in function get_sensor_token",
     "output_type": "error",
     "traceback": [
      "\u001b[1;31m---------------------------------------------------------------------------\u001b[0m",
      "\u001b[1;31mRuntimeError\u001b[0m                              Traceback (most recent call last)",
      "\u001b[1;32mc:\\Users\\yf3831\\github\\carla-remote-server\\first_example.ipynb Cell 1\u001b[0m line \u001b[0;36m5\n\u001b[0;32m      <a href='vscode-notebook-cell:/c%3A/Users/yf3831/github/carla-remote-server/first_example.ipynb#W0sZmlsZQ%3D%3D?line=1'>2</a>\u001b[0m \u001b[39mimport\u001b[39;00m \u001b[39mrandom\u001b[39;00m\n\u001b[0;32m      <a href='vscode-notebook-cell:/c%3A/Users/yf3831/github/carla-remote-server/first_example.ipynb#W0sZmlsZQ%3D%3D?line=3'>4</a>\u001b[0m client \u001b[39m=\u001b[39m carla\u001b[39m.\u001b[39mClient(\u001b[39m'\u001b[39m\u001b[39mlocalhost\u001b[39m\u001b[39m'\u001b[39m, \u001b[39m2000\u001b[39m)\n\u001b[1;32m----> <a href='vscode-notebook-cell:/c%3A/Users/yf3831/github/carla-remote-server/first_example.ipynb#W0sZmlsZQ%3D%3D?line=4'>5</a>\u001b[0m world \u001b[39m=\u001b[39m client\u001b[39m.\u001b[39;49mget_world()\n\u001b[0;32m      <a href='vscode-notebook-cell:/c%3A/Users/yf3831/github/carla-remote-server/first_example.ipynb#W0sZmlsZQ%3D%3D?line=6'>7</a>\u001b[0m \u001b[39m# load a map\u001b[39;00m\n\u001b[0;32m      <a href='vscode-notebook-cell:/c%3A/Users/yf3831/github/carla-remote-server/first_example.ipynb#W0sZmlsZQ%3D%3D?line=7'>8</a>\u001b[0m client\u001b[39m.\u001b[39mload_world(\u001b[39m'\u001b[39m\u001b[39mTown05\u001b[39m\u001b[39m'\u001b[39m)\n",
      "\u001b[1;31mRuntimeError\u001b[0m: rpc::rpc_error during call in function get_sensor_token"
     ]
    }
   ],
   "source": [
    "import carla \n",
    "import random\n",
    "\n",
    "client = carla.Client('localhost', 2000)\n",
    "world = client.get_world()\n",
    "\n",
    "# load a map\n",
    "client.load_world('Town12')\n"
   ]
  },
  {
   "cell_type": "code",
   "execution_count": null,
   "metadata": {},
   "outputs": [],
   "source": [
    "# adding vehicles and NPCs\n",
    "# spawn vehicles\n",
    "# get all the blueprints of the vehicles\n",
    "vehicle_blueprints = world.get_blueprint_library().filter('vehicle.*')\n",
    "# each map provides predefined spawn points\n",
    "spawn_points = world.get_map().get_spawn_points()\n",
    "# spawn 50 vehicles randomly distributed around the map\n",
    "# for each spawn point, we randomly choose a blueprint and spawn a vehicle\n",
    "for i in range(50):\n",
    "    spawn_point = random.choice(spawn_points)\n",
    "    blueprint = random.choice(vehicle_blueprints)\n",
    "    world.try_spawn_actor(blueprint, spawn_point)\n",
    "\n",
    "# now we should add ego vehicle\n",
    "ego_vehicle = world.spawn_actor(random.choice(vehicle_blueprints), random.choice(spawn_points))\n",
    "    "
   ]
  },
  {
   "cell_type": "markdown",
   "metadata": {},
   "source": [
    "Add sensors to vehicle \n"
   ]
  },
  {
   "cell_type": "code",
   "execution_count": null,
   "metadata": {},
   "outputs": [],
   "source": [
    "# create a transform to place the camera on top of the vehicle\n",
    "camera_init_trans = carla.Transform(carla.Location(z=1.5))\n",
    "# create the camera throught a blueprint that defines its properties\n",
    "camera_bp = world.get_blueprint_library().find('sensor.camera.rgb')\n",
    "# spawn the camera and attach it to the ego vehicle\n",
    "camera = world.spawn_actor(camera_bp, camera_init_trans, attach_to=ego_vehicle)\n"
   ]
  },
  {
   "cell_type": "markdown",
   "metadata": {},
   "source": [
    "Once we have spawned the camera, we need to set it recording through the listen() method. The listen method takes as argument a callback that defines what to do with the data. You can either stream it to another program or save it to disk.\n",
    "\n",
    "We will use a lambda function as a callback to save the data to disk:"
   ]
  },
  {
   "cell_type": "code",
   "execution_count": null,
   "metadata": {},
   "outputs": [],
   "source": [
    "# start camera with PyGame callback()\n",
    "camera.listen(lambda image: image.save_to_disk('output/%06d.png' % image.frame))"
   ]
  },
  {
   "cell_type": "markdown",
   "metadata": {},
   "source": [
    "## Animate vehicles"
   ]
  },
  {
   "cell_type": "code",
   "execution_count": null,
   "metadata": {},
   "outputs": [],
   "source": [
    "for vehicle in world.get_actors().filter('*vehicle*'):\n",
    "    vehicle.set_autopilot(True)\n"
   ]
  }
 ],
 "metadata": {
  "kernelspec": {
   "display_name": "carla-py38",
   "language": "python",
   "name": "python3"
  },
  "language_info": {
   "codemirror_mode": {
    "name": "ipython",
    "version": 3
   },
   "file_extension": ".py",
   "mimetype": "text/x-python",
   "name": "python",
   "nbconvert_exporter": "python",
   "pygments_lexer": "ipython3",
   "version": "3.7.16"
  },
  "orig_nbformat": 4
 },
 "nbformat": 4,
 "nbformat_minor": 2
}
