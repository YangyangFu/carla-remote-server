{
 "cells": [
  {
   "cell_type": "code",
   "execution_count": 14,
   "metadata": {},
   "outputs": [],
   "source": [
    "import carla \n",
    "import random\n",
    "\n",
    "client = carla.Client('localhost', 2000)\n",
    "client.set_timeout(100.0)\n",
    "\n",
    "world = client.get_world()\n"
   ]
  },
  {
   "cell_type": "code",
   "execution_count": 15,
   "metadata": {},
   "outputs": [
    {
     "data": {
      "text/plain": [
       "<carla.libcarla.World at 0x7f15f116cf10>"
      ]
     },
     "execution_count": 15,
     "metadata": {},
     "output_type": "execute_result"
    }
   ],
   "source": [
    "\n",
    "# load a map\n",
    "client.load_world('Town10HD')\n"
   ]
  },
  {
   "cell_type": "code",
   "execution_count": 16,
   "metadata": {},
   "outputs": [],
   "source": [
    "# adding vehicles and NPCs\n",
    "# spawn vehicles\n",
    "# get all the blueprints of the vehicles\n",
    "vehicle_blueprints = world.get_blueprint_library().filter('vehicle.*')\n",
    "# each map provides predefined spawn points\n",
    "spawn_points = world.get_map().get_spawn_points()\n",
    "# spawn 50 vehicles randomly distributed around the map\n",
    "# for each spawn point, we randomly choose a blueprint and spawn a vehicle\n",
    "for i in range(10):\n",
    "    spawn_point = random.choice(spawn_points)\n",
    "    blueprint = random.choice(vehicle_blueprints)\n",
    "    world.try_spawn_actor(blueprint, spawn_point)\n"
   ]
  },
  {
   "cell_type": "code",
   "execution_count": 23,
   "metadata": {},
   "outputs": [],
   "source": [
    "\n",
    "# now we should add ego vehicle with a given name\n",
    "# if raise RuntimeError, try second time \n",
    "ego_bp = world.get_blueprint_library().find('vehicle.tesla.model3')\n",
    "ego_bp.set_attribute('role_name', 'hero')\n",
    "ego_vehicle = world.try_spawn_actor(ego_bp, random.choice(spawn_points))\n",
    "\n"
   ]
  },
  {
   "cell_type": "code",
   "execution_count": 29,
   "metadata": {},
   "outputs": [],
   "source": [
    "# try to move spector to ego vehicle\n",
    "spector = world.get_spectator()\n",
    "ego_transform = ego_vehicle.get_transform()\n",
    "\n",
    "# set the position of the spector\n",
    "spector.set_transform(carla.Transform(ego_transform.location + carla.Location(z=5),\n",
    "                                      ego_transform.rotation))\n"
   ]
  },
  {
   "cell_type": "markdown",
   "metadata": {},
   "source": [
    "Add sensors to vehicle \n"
   ]
  },
  {
   "cell_type": "code",
   "execution_count": 30,
   "metadata": {},
   "outputs": [],
   "source": [
    "# create a transform to place the camera on top of the vehicle\n",
    "camera_init_trans = carla.Transform(carla.Location(z=1.5))\n",
    "# create the camera throught a blueprint that defines its properties\n",
    "camera_bp = world.get_blueprint_library().find('sensor.camera.rgb')\n",
    "# spawn the camera and attach it to the ego vehicle\n",
    "camera = world.spawn_actor(camera_bp, camera_init_trans, attach_to=ego_vehicle)\n"
   ]
  },
  {
   "cell_type": "markdown",
   "metadata": {},
   "source": [
    "Once we have spawned the camera, we need to set it recording through the listen() method. The listen method takes as argument a callback that defines what to do with the data. You can either stream it to another program or save it to disk.\n",
    "\n",
    "We will use a lambda function as a callback to save the data to disk:"
   ]
  },
  {
   "cell_type": "code",
   "execution_count": null,
   "metadata": {},
   "outputs": [],
   "source": [
    "# start camera with PyGame callback()\n",
    "#camera.listen(lambda image: image.save_to_disk('output/%06d.png' % image.frame))"
   ]
  },
  {
   "cell_type": "markdown",
   "metadata": {},
   "source": [
    "## Animate vehicles"
   ]
  },
  {
   "cell_type": "code",
   "execution_count": 31,
   "metadata": {},
   "outputs": [],
   "source": [
    "for vehicle in world.get_actors().filter('*vehicle*'):\n",
    "    vehicle.set_autopilot(True)\n"
   ]
  }
 ],
 "metadata": {
  "kernelspec": {
   "display_name": "carla-py38",
   "language": "python",
   "name": "python3"
  },
  "language_info": {
   "codemirror_mode": {
    "name": "ipython",
    "version": 3
   },
   "file_extension": ".py",
   "mimetype": "text/x-python",
   "name": "python",
   "nbconvert_exporter": "python",
   "pygments_lexer": "ipython3",
   "version": "3.7.12"
  },
  "orig_nbformat": 4
 },
 "nbformat": 4,
 "nbformat_minor": 2
}
