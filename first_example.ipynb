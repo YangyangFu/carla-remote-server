{
 "cells": [
  {
   "cell_type": "code",
   "execution_count": 1,
   "metadata": {},
   "outputs": [],
   "source": [
    "import carla \n",
    "import random\n",
    "\n",
    "client = carla.Client('localhost', 2000)\n",
    "world = client.get_world()\n",
    "\n",
    "# load a map\n",
    "client.load_world('Town05')\n",
    "\n",
    "# adding vehicles and NPCs\n",
    "# spawn vehicles\n",
    "# get all the blueprints of the vehicles\n",
    "vehicle_blueprints = world.get_blueprint_library().filter('vehicle.*')\n",
    "# each map provides predefined spawn points\n",
    "spawn_points = world.get_map().get_spawn_points()\n",
    "# spawn 50 vehicles randomly distributed around the map\n",
    "# for each spawn point, we randomly choose a blueprint and spawn a vehicle\n",
    "for i in range(50):\n",
    "    spawn_point = random.choice(spawn_points)\n",
    "    blueprint = random.choice(vehicle_blueprints)\n",
    "    world.try_spawn_actor(blueprint, spawn_point)\n",
    "\n",
    "# now we should add ego vehicle\n",
    "\n",
    "    "
   ]
  },
  {
   "cell_type": "code",
   "execution_count": 3,
   "metadata": {},
   "outputs": [],
   "source": [
    "ego_vehicle = world.spawn_actor(random.choice(vehicle_blueprints), random.choice(spawn_points))"
   ]
  },
  {
   "cell_type": "markdown",
   "metadata": {},
   "source": [
    "## Animate vehicles"
   ]
  },
  {
   "cell_type": "code",
   "execution_count": 4,
   "metadata": {},
   "outputs": [],
   "source": [
    "for vehicle in world.get_actors().filter('*vehicle*'):\n",
    "    vehicle.set_autopilot(True)\n"
   ]
  }
 ],
 "metadata": {
  "kernelspec": {
   "display_name": "carla-py38",
   "language": "python",
   "name": "python3"
  },
  "language_info": {
   "codemirror_mode": {
    "name": "ipython",
    "version": 3
   },
   "file_extension": ".py",
   "mimetype": "text/x-python",
   "name": "python",
   "nbconvert_exporter": "python",
   "pygments_lexer": "ipython3",
   "version": "3.8.18"
  },
  "orig_nbformat": 4
 },
 "nbformat": 4,
 "nbformat_minor": 2
}
